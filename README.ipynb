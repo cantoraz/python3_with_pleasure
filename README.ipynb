{
 "cells": [
  {
   "cell_type": "markdown",
   "metadata": {},
   "source": [
    "# Migrating to Python 3 with pleasure"
   ]
  },
  {
   "cell_type": "markdown",
   "metadata": {},
   "source": [
    "## A short guide on features of Python 3 for data scientists\n",
    "\n",
    "Python became a mainstream language for machine learning and other scientific fields that heavily operate with data;\n",
    "it boasts various deep learning frameworks and well-established set of tools for data processing and visualization.\n",
    "\n",
    "However, Python ecosystem co-exists in Python 2 and Python 3, and Python 2 is still used among data scientists.\n",
    "By the end of 2019 the scientific stack will [stop supporting Python2](http://www.python3statement.org).\n",
    "As for numpy, after 2018 any new feature releases will only support [Python3](https://github.com/numpy/numpy/blob/master/doc/neps/dropping-python2.7-proposal.rst).\n",
    "\n",
    "To make the transition less frustrating, I've collected a bunch of Python 3 features that you may find useful.\n",
    "\n",
    "<img src='https://uploads.toptal.io/blog/image/92216/toptal-blog-image-1457618659472-be2f380fe3aad41333427ecd5a1ec5c5.jpg' width=400 />\n",
    "\n",
    "Image from [Dario Bertini post (toptal)](https://www.toptal.com/python/python-3-is-it-worth-the-switch)"
   ]
  },
  {
   "cell_type": "markdown",
   "metadata": {},
   "source": [
    "## Better paths handling with `pathlib`\n",
    "\n",
    "`pathlib` is a default module in python3, that helps you to avoid tons of `os.path.join`s:"
   ]
  },
  {
   "cell_type": "code",
   "execution_count": 20,
   "metadata": {},
   "outputs": [],
   "source": [
    "from pathlib import Path\n",
    "\n",
    "dataset = 'wiki_images'\n",
    "# datasets_root = Path('/path/to/datasets/')\n",
    "datasets_root = Path('dataset/')\n",
    "\n",
    "train_path = datasets_root / dataset / 'train'\n",
    "test_path = datasets_root / dataset / 'test'\n",
    "\n",
    "for image_path in train_path.iterdir():\n",
    "    with image_path.open() as f: # note, open is a method of Path object\n",
    "        # do something with an image\n",
    "        pass"
   ]
  },
  {
   "cell_type": "markdown",
   "metadata": {},
   "source": [
    "Previously it was always tempting to use string concatenation (concise, but obviously bad),\n",
    "now with `pathlib` the code is safe, concise, and readable.\n",
    "\n",
    "Also `pathlib.Path` has a bunch of methods and properties, that every python novice previously had to google:"
   ]
  },
  {
   "cell_type": "code",
   "execution_count": null,
   "metadata": {},
   "outputs": [],
   "source": [
    "p.exists()\n",
    "p.is_dir()\n",
    "p.parts\n",
    "p.with_name('sibling.png') # only change the name, but keep the folder\n",
    "p.with_suffix('.jpg') # only change the extension, but keep the folder and the name\n",
    "p.chmod(mode)\n",
    "p.rmdir()"
   ]
  },
  {
   "cell_type": "markdown",
   "metadata": {},
   "source": [
    "`pathlib` should save you lots of time,\n",
    "please see [docs](https://docs.python.org/3/library/pathlib.html) and [reference](https://pymotw.com/3/pathlib/) for more."
   ]
  },
  {
   "cell_type": "markdown",
   "metadata": {},
   "source": [
    "## Type hinting is now part of the language\n",
    "\n",
    "Example of type hinting in pycharm: <br/>\n",
    "<img src='images/pycharm-type-hinting.png' />\n",
    "\n",
    "Python is not just a language for small scripts anymore,\n",
    "data pipelines these days include numerous steps each involving different frameworks (and sometimes very different logic).\n",
    "\n",
    "Type hinting was introduced to help with growing complexity of programs, so machines could help with code verification.\n",
    "Previously different modules used custom ways to point [types in doctrings](https://www.jetbrains.com/help/pycharm/type-hinting-in-pycharm.html#legacy)\n",
    "(Hint: pycharm can convert old docstrings to fresh typehinting).\n",
    "\n",
    "As a simple example, the following code may work with different types of data (that's what we like about python data stack)."
   ]
  },
  {
   "cell_type": "code",
   "execution_count": null,
   "metadata": {},
   "outputs": [],
   "source": [
    "def repeat_each_entry(data):\n",
    "    \"\"\" Each entry in the data is doubled\n",
    "    <blah blah nobody reads the documentation till the end>\n",
    "    \"\"\"\n",
    "    index = numpy.repeat(numpy.arange(len(data)), 2)\n",
    "    return data[index]"
   ]
  },
  {
   "cell_type": "markdown",
   "metadata": {},
   "source": [
    "This code e.g. works for `numpy.array` (incl. multidimensional ones), `astropy.Table` and `astropy.Column`, `bcolz`, `cupy`, `mxnet.ndarray` and others.\n",
    "\n",
    "This code will work for `pandas.Series`, but in the wrong way:"
   ]
  },
  {
   "cell_type": "code",
   "execution_count": null,
   "metadata": {},
   "outputs": [],
   "source": [
    "repeat_each_entry(pandas.Series(data=[0, 1, 2], index=[3, 4, 5])) # returns Series with Nones inside"
   ]
  },
  {
   "cell_type": "markdown",
   "metadata": {},
   "source": [
    "This was two lines of code. Imagine how unpredictable behavior of a complex system, because just one function may misbehave.\n",
    "Stating explicitly which types a method expects is very helpful in large systems, this will warn you if a function was passed unexpected arguments."
   ]
  },
  {
   "cell_type": "code",
   "execution_count": null,
   "metadata": {},
   "outputs": [],
   "source": [
    "def repeat_each_entry(data: Union[numpy.ndarray, bcolz.carray]):"
   ]
  },
  {
   "cell_type": "markdown",
   "metadata": {},
   "source": [
    "If you have a significant codebase, hinting tools like [MyPy](http://mypy.readthedocs.io) are likely to become part of your continuous integration pipeline.\n",
    "A webinar [\"Putting Type Hints to Work\"](https://www.youtube.com/watch?v=JqBCFfiE11g) by Daniel Pyrathon is good for a brief introduction.\n",
    "\n",
    "Sidenote: unfortunately, hinting is not yet powerful enough to provide fine-grained typing for ndarrays/tensors, but [maybe we'll have it once](https://github.com/numpy/numpy/issues/7370), and this will be a great feature for DS."
   ]
  },
  {
   "cell_type": "markdown",
   "metadata": {},
   "source": [
    "## Type hinting → type checking in runtime\n",
    "\n",
    "By default, function annotations do not influence how your code is working, but merely help you to point code intentions.\n",
    "\n",
    "However, you can enforce type checking in runtime with tools like ... [enforce](https://github.com/RussBaz/enforce),\n",
    "this can help you in debugging (there are many cases when type hinting is not working)."
   ]
  },
  {
   "cell_type": "code",
   "execution_count": 22,
   "metadata": {
    "collapsed": true
   },
   "outputs": [
    {
     "ename": "ModuleNotFoundError",
     "evalue": "No module named 'enforce'",
     "output_type": "error",
     "traceback": [
      "\u001b[0;31m---------------------------------------------------------------------------\u001b[0m",
      "\u001b[0;31mModuleNotFoundError\u001b[0m                       Traceback (most recent call last)",
      "\u001b[0;32m<ipython-input-22-fe712d586c19>\u001b[0m in \u001b[0;36m<module>\u001b[0;34m()\u001b[0m\n\u001b[0;32m----> 1\u001b[0;31m \u001b[0;32mimport\u001b[0m \u001b[0menforce\u001b[0m\u001b[0;34m\u001b[0m\u001b[0m\n\u001b[0m\u001b[1;32m      2\u001b[0m \u001b[0;34m\u001b[0m\u001b[0m\n\u001b[1;32m      3\u001b[0m \u001b[0;34m@\u001b[0m\u001b[0menforce\u001b[0m\u001b[0;34m.\u001b[0m\u001b[0mruntime_validation\u001b[0m\u001b[0;34m\u001b[0m\u001b[0m\n\u001b[1;32m      4\u001b[0m \u001b[0;32mdef\u001b[0m \u001b[0mfoo\u001b[0m\u001b[0;34m(\u001b[0m\u001b[0mtext\u001b[0m\u001b[0;34m:\u001b[0m \u001b[0mstr\u001b[0m\u001b[0;34m)\u001b[0m \u001b[0;34m->\u001b[0m \u001b[0;32mNone\u001b[0m\u001b[0;34m:\u001b[0m\u001b[0;34m\u001b[0m\u001b[0m\n\u001b[1;32m      5\u001b[0m     \u001b[0mprint\u001b[0m\u001b[0;34m(\u001b[0m\u001b[0mtext\u001b[0m\u001b[0;34m)\u001b[0m\u001b[0;34m\u001b[0m\u001b[0m\n",
      "\u001b[0;31mModuleNotFoundError\u001b[0m: No module named 'enforce'"
     ]
    }
   ],
   "source": [
    "@enforce.runtime_validation\n",
    "def foo(text: str) -> None:\n",
    "    print(text)\n",
    "\n",
    "foo('Hi') # ok\n",
    "foo(5)    # fails\n",
    "\n",
    "\n",
    "@enforce.runtime_validation\n",
    "def any2(x: List[bool]) -> bool:\n",
    "    return any(x)\n",
    "\n",
    "any ([False, False, True, False]) # True\n",
    "any2([False, False, True, False]) # True\n",
    "\n",
    "any (['False']) # True\n",
    "any2(['False']) # fails\n",
    "\n",
    "any ([False, None, \"\", 0]) # False\n",
    "any2([False, None, \"\", 0]) # fails"
   ]
  },
  {
   "cell_type": "markdown",
   "metadata": {},
   "source": [
    "## Other usages of function annotations\n",
    "\n",
    "As mentioned before, annotations do not influence code execution, but rather provide some meta-information,\n",
    "and you can use it as you wish.\n",
    "\n",
    "For instance, measurement units are a common pain in scientific areas, `astropy` package [provides a simple decorator](http://docs.astropy.org/en/stable/units/quantity.html#functions-that-accept-quantities) to control units of input quantities and convert output to required units"
   ]
  },
  {
   "cell_type": "code",
   "execution_count": null,
   "metadata": {},
   "outputs": [],
   "source": [
    "# Python 3\n",
    "from astropy import units as u\n",
    "@u.quantity_input()\n",
    "def frequency(speed: u.meter / u.s, wavelength: u.m) -> u.terahertz:\n",
    "    return speed / wavelength\n",
    "\n",
    "frequency(speed=300_000 * u.km / u.s, wavelength=555 * u.nm)\n",
    "# output: 540.5405405405404 THz, frequency of green visible light"
   ]
  },
  {
   "cell_type": "markdown",
   "metadata": {},
   "source": [
    "If you're processing tabular scientific data in python (not necessarily astronomical), you should give `astropy` a shot.\n",
    "\n",
    "You can also define your application-specific decorators to perform control / conversion of inputs and output in the same manner."
   ]
  },
  {
   "cell_type": "markdown",
   "metadata": {},
   "source": [
    "## Matrix multiplication with @\n",
    "\n",
    "Let's implement one of the simplest ML models &mdash; a linear regression with l2 regularization (a.k.a. ridge regression):"
   ]
  },
  {
   "cell_type": "code",
   "execution_count": null,
   "metadata": {},
   "outputs": [],
   "source": [
    "# l2-regularized linear regression: || AX - b ||^2 + alpha * ||x||^2 -> min\n",
    "\n",
    "# Python 2\n",
    "X = np.linalg.inv(np.dot(A.T, A) + alpha * np.eye(A.shape[1])).dot(A.T.dot(b))\n",
    "# Python 3\n",
    "X = np.linalg.inv(A.T @ A + alpha * np.eye(A.shape[1])) @ (A.T @ b)"
   ]
  },
  {
   "cell_type": "markdown",
   "metadata": {},
   "source": [
    "The code with `@` becomes more readable and more translatable between deep learning frameworks: same code `X @ W + b[None, :]` for a single layer of perceptron works in `numpy`, `cupy`, `pytorch`, `tensorflow` (and other frameworks that operate with tensors)."
   ]
  },
  {
   "cell_type": "markdown",
   "metadata": {},
   "source": [
    "## Globbing with `**`\n",
    "\n",
    "Recursive folder globbing is not easy in Python 2, even though the [glob2](https://github.com/miracle2k/python-glob2) custom module exists that overcomes this. A recursive flag is supported since Python 3.5:"
   ]
  },
  {
   "cell_type": "code",
   "execution_count": null,
   "metadata": {},
   "outputs": [],
   "source": [
    "import glob\n",
    "\n",
    "# Python 2\n",
    "found_images = \\\n",
    "    glob.glob('/path/*.jpg') \\\n",
    "  + glob.glob('/path/*/*.jpg') \\\n",
    "  + glob.glob('/path/*/*/*.jpg') \\\n",
    "  + glob.glob('/path/*/*/*/*.jpg') \\\n",
    "  + glob.glob('/path/*/*/*/*/*.jpg')\n",
    "\n",
    "# Python 3\n",
    "found_images = glob.glob('/path/**/*.jpg', recursive=True)"
   ]
  },
  {
   "cell_type": "markdown",
   "metadata": {},
   "source": [
    "A better option is to use `pathlib` in python3 (minus one import!):"
   ]
  },
  {
   "cell_type": "code",
   "execution_count": null,
   "metadata": {},
   "outputs": [],
   "source": [
    "# Python 3\n",
    "found_images = pathlib.Path('/path/').glob('**/*.jpg')"
   ]
  },
  {
   "cell_type": "markdown",
   "metadata": {},
   "source": [
    "## Print is a function now\n",
    "\n",
    "Yes, code now has these annoying parentheses, but there are some advantages:\n",
    "\n",
    "- simple syntax for using file descriptor:"
   ]
  },
  {
   "cell_type": "code",
   "execution_count": null,
   "metadata": {},
   "outputs": [],
   "source": [
    "print >>sys.stderr, \"critical error\"      # Python 2\n",
    "print(\"critical error\", file=sys.stderr)  # Python 3"
   ]
  },
  {
   "cell_type": "markdown",
   "metadata": {},
   "source": [
    "- printing tab-aligned tables without `str.join`:"
   ]
  },
  {
   "cell_type": "code",
   "execution_count": null,
   "metadata": {},
   "outputs": [],
   "source": [
    "# Python 3\n",
    "print(*array, sep='\\t')\n",
    "print(batch, epoch, loss, accuracy, time, sep='\\t')"
   ]
  },
  {
   "cell_type": "markdown",
   "metadata": {},
   "source": [
    "- hacky suppressing / redirection of printing output:"
   ]
  },
  {
   "cell_type": "code",
   "execution_count": null,
   "metadata": {},
   "outputs": [],
   "source": [
    "# Python 3\n",
    "_print = print # store the original print function\n",
    "def print(*args, **kargs):\n",
    "    pass  # do something useful, e.g. store output to some file"
   ]
  },
  {
   "cell_type": "markdown",
   "metadata": {},
   "source": [
    "    In jupyter it is desirable to log each output to a separate file (to track what's happening after you got disconnected), so you can override `print` now.\n",
    "\n",
    "    Below you can see a context manager that temporarily overrides behavior of print:"
   ]
  },
  {
   "cell_type": "code",
   "execution_count": null,
   "metadata": {},
   "outputs": [],
   "source": [
    "@contextlib.contextmanager\n",
    "def replace_print():\n",
    "    import builtins\n",
    "    _print = print # saving old print function\n",
    "    # or use some other function here\n",
    "    builtins.print = lambda *args, **kwargs: _print('new printing', *args, **kwargs)\n",
    "    yield\n",
    "    builtins.print = _print\n",
    "\n",
    "with replace_print():\n",
    "    <code here will invoke other print function>"
   ]
  },
  {
   "cell_type": "markdown",
   "metadata": {},
   "source": [
    "    It is *not* a recommended approach, but a small dirty hack that is now possible.\n",
    "\n",
    "- `print` can participate in list comprehensions and other language constructs"
   ]
  },
  {
   "cell_type": "code",
   "execution_count": null,
   "metadata": {},
   "outputs": [],
   "source": [
    "# Python 3\n",
    "result = process(x) if is_valid(x) else print('invalid item: ', x)"
   ]
  },
  {
   "cell_type": "markdown",
   "metadata": {},
   "source": [
    "## Underscores in Numeric Literal (Thousands Seperator)\n",
    "\n",
    "[PEP-515](https://www.python.org/dev/peps/pep-0515/ \"PEP-515\") introduced underscores in Numeric Literals.\n",
    "In Python3, underscores can be used to group digits visually in integral, floating-point, and complex number literals."
   ]
  },
  {
   "cell_type": "code",
   "execution_count": null,
   "metadata": {},
   "outputs": [],
   "source": [
    "# grouping decimal numbers by thousands\n",
    "one_million = 1_000_000\n",
    "\n",
    "# grouping hexadecimal addresses by words\n",
    "addr = 0xCAFE_F00D\n",
    "\n",
    "# grouping bits into nibbles in a binary literal\n",
    "flags = 0b_0011_1111_0100_1110\n",
    "\n",
    "# same, for string conversions\n",
    "flags = int('0b_1111_0000', 2)"
   ]
  },
  {
   "cell_type": "markdown",
   "metadata": {},
   "source": [
    "## f-strings for simple and reliable formatting\n",
    "\n",
    "The default formatting system provides a flexibility that is not required in data experiments.\n",
    "The resulting code is either too verbose or too fragile towards any changes.\n",
    "\n",
    "Quite typically data scientists outputs some logging information iteratively in a fixed format.\n",
    "It is common to have a code like:"
   ]
  },
  {
   "cell_type": "code",
   "execution_count": null,
   "metadata": {},
   "outputs": [],
   "source": [
    "# Python 2\n",
    "print('{batch:3} {epoch:3} / {total_epochs:3}  accuracy: {acc_mean:0.4f}±{acc_std:0.4f} time: {avg_time:3.2f}'.format(\n",
    "    batch=batch, epoch=epoch, total_epochs=total_epochs,\n",
    "    acc_mean=numpy.mean(accuracies), acc_std=numpy.std(accuracies),\n",
    "    avg_time=time / len(data_batch)\n",
    "))\n",
    "\n",
    "# Python 2 (too error-prone during fast modifications, please avoid):\n",
    "print('{:3} {:3} / {:3}  accuracy: {:0.4f}±{:0.4f} time: {:3.2f}'.format(\n",
    "    batch, epoch, total_epochs, numpy.mean(accuracies), numpy.std(accuracies),\n",
    "    time / len(data_batch)\n",
    "))"
   ]
  },
  {
   "cell_type": "markdown",
   "metadata": {},
   "source": [
    "Sample output:\n",
    "```\n",
    "120  12 / 300  accuracy: 0.8180±0.4649 time: 56.60\n",
    "```\n",
    "\n",
    "**f-strings** aka formatted string literals were introduced in Python 3.6:"
   ]
  },
  {
   "cell_type": "code",
   "execution_count": null,
   "metadata": {},
   "outputs": [],
   "source": [
    "# Python 3.6+\n",
    "print(f'{batch:3} {epoch:3} / {total_epochs:3}  accuracy: {numpy.mean(accuracies):0.4f}±{numpy.std(accuracies):0.4f} time: {time / len(data_batch):3.2f}')"
   ]
  },
  {
   "cell_type": "markdown",
   "metadata": {},
   "source": [
    "## Explicit difference between 'true division' and 'integer division'\n",
    "\n",
    "For data science this is definitely a handy change (but not for system programming, I believe)"
   ]
  },
  {
   "cell_type": "code",
   "execution_count": null,
   "metadata": {},
   "outputs": [],
   "source": [
    "data = pandas.read_csv('timing.csv')\n",
    "velocity = data['distance'] / data['time']"
   ]
  },
  {
   "cell_type": "markdown",
   "metadata": {},
   "source": [
    "Results in Python 2 depend on whether 'time' and 'distance' (e.g. measured in meters and seconds) are stored as integers.\n",
    "In Python 3, the result is correct in both cases, because the result of division is float.\n",
    "\n",
    "Another case is integer division, which is now an explicit operation:"
   ]
  },
  {
   "cell_type": "code",
   "execution_count": null,
   "metadata": {},
   "outputs": [],
   "source": [
    "n_gifts = money // gift_price  # correct for int and float arguments"
   ]
  },
  {
   "cell_type": "markdown",
   "metadata": {},
   "source": [
    "Note, that this applies both to built-in types and to custom types provided by data packages (e.g. `numpy` or `pandas`)."
   ]
  },
  {
   "cell_type": "markdown",
   "metadata": {},
   "source": [
    "## Strict ordering"
   ]
  },
  {
   "cell_type": "code",
   "execution_count": 27,
   "metadata": {
    "collapsed": true
   },
   "outputs": [
    {
     "ename": "TypeError",
     "evalue": "'<' not supported between instances of 'int' and 'str'",
     "output_type": "error",
     "traceback": [
      "\u001b[0;31m---------------------------------------------------------------------------\u001b[0m",
      "\u001b[0;31mTypeError\u001b[0m                                 Traceback (most recent call last)",
      "\u001b[0;32m<ipython-input-27-a32cbc79d509>\u001b[0m in \u001b[0;36m<module>\u001b[0;34m()\u001b[0m\n\u001b[1;32m      1\u001b[0m \u001b[0;31m# All these comparisons are illegal in Python 3\u001b[0m\u001b[0;34m\u001b[0m\u001b[0;34m\u001b[0m\u001b[0m\n\u001b[0;32m----> 2\u001b[0;31m \u001b[0;36m3\u001b[0m \u001b[0;34m<\u001b[0m \u001b[0;34m'3'\u001b[0m\u001b[0;34m\u001b[0m\u001b[0m\n\u001b[0m\u001b[1;32m      3\u001b[0m \u001b[0;36m2\u001b[0m \u001b[0;34m<\u001b[0m \u001b[0;32mNone\u001b[0m\u001b[0;34m\u001b[0m\u001b[0m\n\u001b[1;32m      4\u001b[0m \u001b[0;34m(\u001b[0m\u001b[0;36m3\u001b[0m\u001b[0;34m,\u001b[0m \u001b[0;36m4\u001b[0m\u001b[0;34m)\u001b[0m \u001b[0;34m<\u001b[0m \u001b[0;34m(\u001b[0m\u001b[0;36m3\u001b[0m\u001b[0;34m,\u001b[0m \u001b[0;32mNone\u001b[0m\u001b[0;34m)\u001b[0m\u001b[0;34m\u001b[0m\u001b[0m\n\u001b[1;32m      5\u001b[0m \u001b[0;34m(\u001b[0m\u001b[0;36m4\u001b[0m\u001b[0;34m,\u001b[0m \u001b[0;36m5\u001b[0m\u001b[0;34m)\u001b[0m \u001b[0;34m<\u001b[0m \u001b[0;34m[\u001b[0m\u001b[0;36m4\u001b[0m\u001b[0;34m,\u001b[0m \u001b[0;36m5\u001b[0m\u001b[0;34m]\u001b[0m\u001b[0;34m\u001b[0m\u001b[0m\n",
      "\u001b[0;31mTypeError\u001b[0m: '<' not supported between instances of 'int' and 'str'"
     ]
    }
   ],
   "source": [
    "# All these comparisons are illegal in Python 3\n",
    "3 < '3'\n",
    "2 < None\n",
    "(3, 4) < (3, None)\n",
    "(4, 5) < [4, 5]\n",
    "\n",
    "# False in both Python 2 and Python 3\n",
    "(4, 5) == [4, 5]"
   ]
  },
  {
   "cell_type": "markdown",
   "metadata": {},
   "source": [
    "- prevents from occasional sorting of instances of different types"
   ]
  },
  {
   "cell_type": "code",
   "execution_count": 26,
   "metadata": {
    "collapsed": true
   },
   "outputs": [
    {
     "ename": "TypeError",
     "evalue": "'<' not supported between instances of 'str' and 'int'",
     "output_type": "error",
     "traceback": [
      "\u001b[0;31m---------------------------------------------------------------------------\u001b[0m",
      "\u001b[0;31mTypeError\u001b[0m                                 Traceback (most recent call last)",
      "\u001b[0;32m<ipython-input-26-e47c8b972c9a>\u001b[0m in \u001b[0;36m<module>\u001b[0;34m()\u001b[0m\n\u001b[0;32m----> 1\u001b[0;31m \u001b[0msorted\u001b[0m\u001b[0;34m(\u001b[0m\u001b[0;34m[\u001b[0m\u001b[0;36m2\u001b[0m\u001b[0;34m,\u001b[0m \u001b[0;34m'1'\u001b[0m\u001b[0;34m,\u001b[0m \u001b[0;36m3\u001b[0m\u001b[0;34m]\u001b[0m\u001b[0;34m)\u001b[0m  \u001b[0;31m# invalid for Python 3, in Python 2 returns [2, 3, '1']\u001b[0m\u001b[0;34m\u001b[0m\u001b[0m\n\u001b[0m",
      "\u001b[0;31mTypeError\u001b[0m: '<' not supported between instances of 'str' and 'int'"
     ]
    }
   ],
   "source": [
    "sorted([2, '1', 3])  # invalid for Python 3, in Python 2 returns [2, 3, '1']"
   ]
  },
  {
   "cell_type": "markdown",
   "metadata": {},
   "source": [
    "- helps to spot some problems that arise when processing raw data\n",
    "\n",
    "Sidenote: proper check for None is (in both Python versions)"
   ]
  },
  {
   "cell_type": "code",
   "execution_count": 25,
   "metadata": {
    "collapsed": true
   },
   "outputs": [
    {
     "ename": "NameError",
     "evalue": "name 'a' is not defined",
     "output_type": "error",
     "traceback": [
      "\u001b[0;31m---------------------------------------------------------------------------\u001b[0m",
      "\u001b[0;31mNameError\u001b[0m                                 Traceback (most recent call last)",
      "\u001b[0;32m<ipython-input-25-8f6fbf522920>\u001b[0m in \u001b[0;36m<module>\u001b[0;34m()\u001b[0m\n\u001b[0;32m----> 1\u001b[0;31m \u001b[0;32mif\u001b[0m \u001b[0ma\u001b[0m \u001b[0;32mis\u001b[0m \u001b[0;32mnot\u001b[0m \u001b[0;32mNone\u001b[0m\u001b[0;34m:\u001b[0m\u001b[0;34m\u001b[0m\u001b[0m\n\u001b[0m\u001b[1;32m      2\u001b[0m   \u001b[0;32mpass\u001b[0m\u001b[0;34m\u001b[0m\u001b[0m\n\u001b[1;32m      3\u001b[0m \u001b[0;34m\u001b[0m\u001b[0m\n\u001b[1;32m      4\u001b[0m \u001b[0;32mif\u001b[0m \u001b[0ma\u001b[0m\u001b[0;34m:\u001b[0m \u001b[0;31m# WRONG check for None\u001b[0m\u001b[0;34m\u001b[0m\u001b[0m\n\u001b[1;32m      5\u001b[0m   \u001b[0;32mpass\u001b[0m\u001b[0;34m\u001b[0m\u001b[0m\n",
      "\u001b[0;31mNameError\u001b[0m: name 'a' is not defined"
     ]
    }
   ],
   "source": [
    "if a is not None:\n",
    "  pass\n",
    "\n",
    "if a: # WRONG check for None\n",
    "  pass"
   ]
  },
  {
   "cell_type": "markdown",
   "metadata": {},
   "source": [
    "## Unicode for NLP"
   ]
  },
  {
   "cell_type": "code",
   "execution_count": 24,
   "metadata": {
    "collapsed": true
   },
   "outputs": [
    {
     "name": "stdout",
     "output_type": "stream",
     "text": [
      "2\n",
      "您好\n"
     ]
    }
   ],
   "source": [
    "s = '您好'\n",
    "print(len(s))\n",
    "print(s[:2])"
   ]
  },
  {
   "cell_type": "markdown",
   "metadata": {},
   "source": [
    "Output:\n",
    "- Python 2: `6\\n��`\n",
    "- Python 3: `2\\n您好`."
   ]
  },
  {
   "cell_type": "code",
   "execution_count": 29,
   "metadata": {},
   "outputs": [],
   "source": [
    "x = u'со'\n",
    "x += 'co' # ok\n",
    "x += 'со' # fail"
   ]
  },
  {
   "cell_type": "markdown",
   "metadata": {},
   "source": [
    "Python 2 fails, Python 3 works as expected (because I've used russian letters in strings).\n",
    "\n",
    "In Python 3 `str`s are unicode strings, and it is more convenient for NLP processing of non-english texts.\n",
    "\n",
    "There are other funny things, for instance:"
   ]
  },
  {
   "cell_type": "code",
   "execution_count": 30,
   "metadata": {
    "collapsed": true
   },
   "outputs": [
    {
     "ename": "TypeError",
     "evalue": "'<' not supported between instances of 'str' and 'type'",
     "output_type": "error",
     "traceback": [
      "\u001b[0;31m---------------------------------------------------------------------------\u001b[0m",
      "\u001b[0;31mTypeError\u001b[0m                                 Traceback (most recent call last)",
      "\u001b[0;32m<ipython-input-30-cfc4c7472fda>\u001b[0m in \u001b[0;36m<module>\u001b[0;34m()\u001b[0m\n\u001b[0;32m----> 1\u001b[0;31m \u001b[0;34m'a'\u001b[0m \u001b[0;34m<\u001b[0m \u001b[0mtype\u001b[0m \u001b[0;34m<\u001b[0m \u001b[0;34mu'a'\u001b[0m  \u001b[0;31m# Python 2: True\u001b[0m\u001b[0;34m\u001b[0m\u001b[0m\n\u001b[0m\u001b[1;32m      2\u001b[0m \u001b[0;34m'a'\u001b[0m \u001b[0;34m<\u001b[0m \u001b[0;34mu'a'\u001b[0m         \u001b[0;31m# Python 2: False\u001b[0m\u001b[0;34m\u001b[0m\u001b[0m\n",
      "\u001b[0;31mTypeError\u001b[0m: '<' not supported between instances of 'str' and 'type'"
     ]
    }
   ],
   "source": [
    "'a' < type < u'a'  # Python 2: True\n",
    "'a' < u'a'         # Python 2: False"
   ]
  },
  {
   "cell_type": "code",
   "execution_count": 31,
   "metadata": {},
   "outputs": [
    {
     "data": {
      "text/plain": [
       "Counter({'M': 1,\n",
       "         'b': 1,\n",
       "         'c': 1,\n",
       "         'e': 1,\n",
       "         'k': 1,\n",
       "         'l': 1,\n",
       "         's': 1,\n",
       "         't': 1,\n",
       "         'ö': 1,\n",
       "         'ü': 1})"
      ]
     },
     "execution_count": 31,
     "metadata": {},
     "output_type": "execute_result"
    }
   ],
   "source": [
    "from collections import Counter\n",
    "Counter('Möbelstück')"
   ]
  },
  {
   "cell_type": "markdown",
   "metadata": {},
   "source": [
    "- Python 2: `Counter({'\\xc3': 2, 'b': 1, 'e': 1, 'c': 1, 'k': 1, 'M': 1, 'l': 1, 's': 1, 't': 1, '\\xb6': 1, '\\xbc': 1})`\n",
    "- Python 3: `Counter({'M': 1, 'ö': 1, 'b': 1, 'e': 1, 'l': 1, 's': 1, 't': 1, 'ü': 1, 'c': 1, 'k': 1})`\n",
    "\n",
    "You can handle all of this in Python 2 properly, but Python 3 is more friendly."
   ]
  },
  {
   "cell_type": "markdown",
   "metadata": {},
   "source": [
    "## Preserving order of dictionaries and **kwargs\n",
    "\n",
    "In CPython 3.6+ dicts behave like `OrderedDict` by default (and [this is guaranteed in Python 3.7+](https://stackoverflow.com/questions/39980323/are-dictionaries-ordered-in-python-3-6)).\n",
    "This preserves order during dict comprehensions (and other operations, e.g. during json serialization/deserialization)"
   ]
  },
  {
   "cell_type": "code",
   "execution_count": 32,
   "metadata": {
    "collapsed": true
   },
   "outputs": [
    {
     "data": {
      "text/plain": [
       "{'0': 0, '1': 1, '2': 2, '3': 3, '4': 4}"
      ]
     },
     "execution_count": 32,
     "metadata": {},
     "output_type": "execute_result"
    }
   ],
   "source": [
    "import json\n",
    "x = {str(i):i for i in range(5)}\n",
    "json.loads(json.dumps(x))\n",
    "# Python 2\n",
    "{u'1': 1, u'0': 0, u'3': 3, u'2': 2, u'4': 4}\n",
    "# Python 3\n",
    "{'0': 0, '1': 1, '2': 2, '3': 3, '4': 4}"
   ]
  },
  {
   "cell_type": "markdown",
   "metadata": {},
   "source": [
    "Same applies to `**kwargs` (in Python 3.6+), they're kept in the same order as they appear in parameters.\n",
    "Order is crucial when it comes to data pipelines, previously we had to write it in a cumbersome manner:"
   ]
  },
  {
   "cell_type": "code",
   "execution_count": null,
   "metadata": {},
   "outputs": [],
   "source": [
    "from torch import nn\n",
    "\n",
    "# Python 2\n",
    "model = nn.Sequential(OrderedDict([\n",
    "          ('conv1', nn.Conv2d(1,20,5)),\n",
    "          ('relu1', nn.ReLU()),\n",
    "          ('conv2', nn.Conv2d(20,64,5)),\n",
    "          ('relu2', nn.ReLU())\n",
    "        ]))\n",
    "\n",
    "# Python 3.6+, how it *can* be done, not supported right now in pytorch\n",
    "model = nn.Sequential(\n",
    "    conv1=nn.Conv2d(1,20,5),\n",
    "    relu1=nn.ReLU(),\n",
    "    conv2=nn.Conv2d(20,64,5),\n",
    "    relu2=nn.ReLU())\n",
    ")"
   ]
  },
  {
   "cell_type": "markdown",
   "metadata": {},
   "source": [
    "Did you notice? Uniqueness of names is also checked automatically."
   ]
  },
  {
   "cell_type": "markdown",
   "metadata": {},
   "source": [
    "## Iterable unpacking"
   ]
  },
  {
   "cell_type": "code",
   "execution_count": null,
   "metadata": {},
   "outputs": [],
   "source": [
    "# handy when amount of additional stored info may vary between experiments, but the same code can be used in all cases\n",
    "model_paramteres, optimizer_parameters, *other_params = load(checkpoint_name)\n",
    "\n",
    "# picking two last values from a sequence\n",
    "*prev, next_to_last, last = values_history\n",
    "\n",
    "# This also works with any iterables, so if you have a function that yields e.g. qualities,\n",
    "# below is a simple way to take only last two values from a list\n",
    "*prev, next_to_last, last = iter_train(args)"
   ]
  },
  {
   "cell_type": "markdown",
   "metadata": {},
   "source": [
    "## Default pickle engine provides better compression for arrays"
   ]
  },
  {
   "cell_type": "code",
   "execution_count": null,
   "metadata": {},
   "outputs": [],
   "source": [
    "# Python 2\n",
    "import cPickle as pickle\n",
    "import numpy\n",
    "print len(pickle.dumps(numpy.random.normal(size=[1000, 1000])))\n",
    "# result: 23691675\n",
    "\n",
    "# Python 3\n",
    "import pickle\n",
    "import numpy\n",
    "len(pickle.dumps(numpy.random.normal(size=[1000, 1000])))\n",
    "# result: 8000162"
   ]
  },
  {
   "cell_type": "markdown",
   "metadata": {},
   "source": [
    "Three times less space. And it is *much* faster.\n",
    "Actually similar compression (but not speed) is achievable with `protocol=2` parameter, but users typically ignore this option (or simply are not aware of it)."
   ]
  },
  {
   "cell_type": "markdown",
   "metadata": {},
   "source": [
    "## Safer comprehensions"
   ]
  },
  {
   "cell_type": "code",
   "execution_count": null,
   "metadata": {},
   "outputs": [],
   "source": [
    "labels = <initial_value>\n",
    "predictions = [model.predict(data) for data, labels in dataset]\n",
    "\n",
    "# labels are overwritten in Python 2\n",
    "# labels are not affected by comprehension in Python 3"
   ]
  },
  {
   "cell_type": "markdown",
   "metadata": {},
   "source": [
    "## Super, simply super()\n",
    "\n",
    "Python 2 `super(...)` was a frequent source of mistakes in code."
   ]
  },
  {
   "cell_type": "code",
   "execution_count": null,
   "metadata": {},
   "outputs": [],
   "source": [
    "# Python 2\n",
    "class MySubClass(MySuperClass):\n",
    "    def __init__(self, name, **options):\n",
    "        super(MySubClass, self).__init__(name='subclass', **options)\n",
    "\n",
    "# Python 3\n",
    "class MySubClass(MySuperClass):\n",
    "    def __init__(self, name, **options):\n",
    "        super().__init__(name='subclass', **options)"
   ]
  },
  {
   "cell_type": "markdown",
   "metadata": {},
   "source": [
    "More on `super` and method resolution order on [stackoverflow](https://stackoverflow.com/questions/576169/understanding-python-super-with-init-methods)."
   ]
  },
  {
   "cell_type": "markdown",
   "metadata": {},
   "source": [
    "## Better IDE suggestions with variable annotations\n",
    "\n",
    "The most enjoyable thing about programming in languages like Java, C# and alike is that IDE can make very good suggestions,\n",
    "because type of each identifier is known before executing a program.\n",
    "\n",
    "In python this is hard to achieve, but annotations will help you\n",
    "- write your expectations in a clear form\n",
    "- and get good suggestions from IDE\n",
    "\n",
    "<img src='images/variable_annotations.png' /><br />\n",
    "This is an example of PyCharm suggestions with variable annotations.\n",
    "This works even in situations when functions you use are not annotated (e.g. due to backward compatibility)."
   ]
  },
  {
   "cell_type": "markdown",
   "metadata": {},
   "source": [
    "## Multiple unpacking\n",
    "\n",
    "Here is how you merge two dicts now:"
   ]
  },
  {
   "cell_type": "code",
   "execution_count": null,
   "metadata": {},
   "outputs": [],
   "source": [
    "x = dict(a=1, b=2)\n",
    "y = dict(b=3, d=4)\n",
    "# Python 3.5+\n",
    "z = {**x, **y}\n",
    "# z = {'a': 1, 'b': 3, 'd': 4}, note that value for `b` is taken from the latter dict."
   ]
  },
  {
   "cell_type": "markdown",
   "metadata": {},
   "source": [
    "See [this thread at StackOverflow](https://stackoverflow.com/questions/38987/how-to-merge-two-dictionaries-in-a-single-expression) for a comparison with Python 2.\n",
    "\n",
    "The same approach also works for lists, tuples, and sets (`a`, `b`, `c` are any iterables):"
   ]
  },
  {
   "cell_type": "code",
   "execution_count": null,
   "metadata": {},
   "outputs": [],
   "source": [
    "[*a, *b, *c] # list, concatenating\n",
    "(*a, *b, *c) # tuple, concatenating\n",
    "{*a, *b, *c} # set, union"
   ]
  },
  {
   "cell_type": "markdown",
   "metadata": {},
   "source": [
    "Functions also [support this](https://docs.python.org/3/whatsnew/3.5.html#whatsnew-pep-448) for `*args` and `**kwargs`:\n",
    "```\n",
    "Python 3.5+\n",
    "do_something(**{**default_settings, **custom_settings})\n",
    "\n",
    "# Also possible, this code also checks there is no intersection between keys of dictionaries\n",
    "do_something(**first_args, **second_args)\n",
    "```"
   ]
  },
  {
   "cell_type": "markdown",
   "metadata": {},
   "source": [
    "## Future-proof APIs with keyword-only arguments\n",
    "\n",
    "Let's consider this snippet"
   ]
  },
  {
   "cell_type": "code",
   "execution_count": null,
   "metadata": {},
   "outputs": [],
   "source": [
    "model = sklearn.svm.SVC(2, 'poly', 2, 4, 0.5)"
   ]
  },
  {
   "cell_type": "markdown",
   "metadata": {},
   "source": [
    "Obviously, an author of this code didn't get the Python style of coding yet (most probably, just jumped from cpp or rust).\n",
    "Unfortunately, this is not just question of taste, because changing the order of arguments (adding/deleting) in `SVC` will break this code. In particular, `sklearn` does some reordering/renaming from time to time of numerous algorithm parameters to provide consistent API. Each such refactoring may drive to broken code.\n",
    "\n",
    "In Python 3, library authors may demand explicitly named parameters by using `*`:\n",
    "```\n",
    "class SVC(BaseSVC):\n",
    "    def __init__(self, *, C=1.0, kernel='rbf', degree=3, gamma='auto', coef0=0.0, ... )\n",
    "```\n",
    "- users have to specify names of parameters `sklearn.svm.SVC(C=2, kernel='poly', degree=2, gamma=4, coef0=0.5)` now\n",
    "- this mechanism provides a great combination of reliability and flexibility of APIs"
   ]
  },
  {
   "cell_type": "markdown",
   "metadata": {},
   "source": [
    "## Minor: constants in `math` module"
   ]
  },
  {
   "cell_type": "code",
   "execution_count": null,
   "metadata": {},
   "outputs": [],
   "source": [
    "# Python 3\n",
    "math.inf # 'largest' number\n",
    "math.nan # not a number\n",
    "\n",
    "max_quality = -math.inf  # no more magic initial values!\n",
    "\n",
    "for model in trained_models:\n",
    "    max_quality = max(max_quality, compute_quality(model, data))"
   ]
  },
  {
   "cell_type": "markdown",
   "metadata": {},
   "source": [
    "## Minor: single integer type\n",
    "\n",
    "Python 2 provides two basic integer types, which are `int` (64-bit signed integer) and `long` for long arithmetics (quite confusing after C++).\n",
    "\n",
    "Python 3 has a single type `int`, which incorporates long arithmetics.\n",
    "\n",
    "Here is how you check that value is integer:"
   ]
  },
  {
   "cell_type": "code",
   "execution_count": null,
   "metadata": {},
   "outputs": [],
   "source": [
    "isinstance(x, numbers.Integral) # Python 2, the canonical way\n",
    "isinstance(x, (long, int))      # Python 2\n",
    "isinstance(x, int)              # Python 3, easier to remember"
   ]
  },
  {
   "cell_type": "markdown",
   "metadata": {},
   "source": [
    "## Other stuff\n",
    "\n",
    "- `Enum`s are theoretically useful, but\n",
    "    - string-typing is already widely adopted in the python data stack\n",
    "    - `Enum`s don't seem to interplay with numpy and categorical from pandas\n",
    "- coroutines also *sound* very promising for data pipelining (see [slides](http://www.dabeaz.com/coroutines/Coroutines.pdf) by David Beazley), but I don't see their adoption in the wild.\n",
    "- Python 3 has [stable ABI](https://www.python.org/dev/peps/pep-0384/)\n",
    "- Python 3 supports unicode identifies (so `ω = Δφ / Δt` is ok), but you'd [better use good old ASCII names](https://stackoverflow.com/a/29855176/498892)\n",
    "- some libraries e.g. [jupyterhub](https://github.com/jupyterhub/jupyterhub) (jupyter in cloud), django and fresh ipython only support Python 3, so features that sound useless for you are useful for libraries you'll probably want to use once."
   ]
  },
  {
   "cell_type": "markdown",
   "metadata": {},
   "source": [
    "### Problems for code migration specific for data science (and how to resolve those)\n",
    "\n",
    "- support for nested arguments [was dropped](https://www.python.org/dev/peps/pep-3113/)\n",
    "  ```\n",
    "  map(lambda x, (y, z): x, z, dict.items())\n",
    "  ```\n",
    "\n",
    "  However, it is still perfectly working with different comprehensions:"
   ]
  },
  {
   "cell_type": "code",
   "execution_count": null,
   "metadata": {},
   "outputs": [],
   "source": [
    "{x:z for x, (y, z) in d.items()}"
   ]
  },
  {
   "cell_type": "markdown",
   "metadata": {},
   "source": [
    "  In general, comprehensions are also better 'translatable' between Python 2 and 3.\n",
    "\n",
    "- `map()`, `.keys()`, `.values()`, `.items()`, etc. return iterators, not lists. Main problems with iterators are:\n",
    "  - no trivial slicing\n",
    "  - can't be iterated twice\n",
    "\n",
    "  Almost all of the problems are resolved by converting result to list.\n",
    "\n",
    "- see [Python FAQ: How do I port to Python 3?](https://eev.ee/blog/2016/07/31/python-faq-how-do-i-port-to-python-3/) when in trouble"
   ]
  },
  {
   "cell_type": "markdown",
   "metadata": {},
   "source": [
    "### Main problems for teaching machine learning and data science with python\n",
    "\n",
    "Course authors should spend time in the first lectures to explain what is an iterator,\n",
    "why it can't be sliced / concatenated / multiplied / iterated twice like a string (and how to deal with it).\n",
    "\n",
    "I think most course authors would be happy to avoid these details, but now it is hardly possible."
   ]
  },
  {
   "cell_type": "markdown",
   "metadata": {},
   "source": [
    "# Conclusion\n",
    "\n",
    "Python 2 and Python 3 have co-existed for almost 10 years, but we *should* move to Python 3.\n",
    "\n",
    "Research and production code should become a bit shorter, more readable, and significantly safer after moving to Python 3-only codebase.\n",
    "\n",
    "Right now most libraries support both Python versions.\n",
    "And I can't wait for the bright moment when packages drop support for Python 2 and enjoy new language features.\n",
    "\n",
    "Following migrations are promised to be smoother: [\"we will never do this kind of backwards-incompatible change again\"](https://snarky.ca/why-python-3-exists/)"
   ]
  },
  {
   "cell_type": "markdown",
   "metadata": {},
   "source": [
    "### Links\n",
    "\n",
    "- [Key differences between Python 2.7 and Python 3.x](http://sebastianraschka.com/Articles/2014_python_2_3_key_diff.html)\n",
    "- [Python FAQ: How do I port to Python 3?](https://eev.ee/blog/2016/07/31/python-faq-how-do-i-port-to-python-3/)\n",
    "- [10 awesome features of Python that you can't use because you refuse to upgrade to Python 3](http://www.asmeurer.com/python3-presentation/slides.html)\n",
    "- [Trust me, python 3.3 is better than 2.7 (video)](http://pyvideo.org/pycon-us-2013/python-33-trust-me-its-better-than-27.html)\n",
    "- [Python 3 for scientists](http://python-3-for-scientists.readthedocs.io/en/latest/)"
   ]
  },
  {
   "cell_type": "markdown",
   "metadata": {},
   "source": [
    "### License\n",
    "\n",
    "This text was published by [Alex Rogozhnikov](https://arogozhnikov.github.io/about/) under [CC BY-SA 3.0 License](https://creativecommons.org/licenses/by-sa/3.0/) (excluding images)."
   ]
  }
 ],
 "metadata": {
  "kernelspec": {
   "display_name": "Python 3",
   "language": "python",
   "name": "python3"
  },
  "language_info": {
   "codemirror_mode": {
    "name": "ipython",
    "version": 3
   },
   "file_extension": ".py",
   "mimetype": "text/x-python",
   "name": "python",
   "nbconvert_exporter": "python",
   "pygments_lexer": "ipython3",
   "version": "3.6.4"
  }
 },
 "nbformat": 4,
 "nbformat_minor": 2
}
